{
 "cells": [
  {
   "metadata": {
    "ExecuteTime": {
     "end_time": "2025-07-11T10:16:35.620757Z",
     "start_time": "2025-07-11T10:16:33.712100Z"
    }
   },
   "cell_type": "code",
   "source": [
    "# importing everything needed\n",
    "\n",
    "import feedparser\n",
    "import pandas as pd\n",
    "\n",
    "from transformers import pipeline\n",
    "\n",
    "pipe = pipeline(\"text-classification\", model=\"ProsusAI/finbert\")"
   ],
   "id": "7c1ee1c06fffa996",
   "outputs": [
    {
     "name": "stderr",
     "output_type": "stream",
     "text": [
      "Device set to use cpu\n"
     ]
    }
   ],
   "execution_count": 4
  },
  {
   "metadata": {
    "ExecuteTime": {
     "end_time": "2025-07-11T11:36:13.815869Z",
     "start_time": "2025-07-11T11:36:13.805733Z"
    }
   },
   "cell_type": "code",
   "source": [
    "#reading the nifty 500 data\n",
    "df = pd.read_csv(\"nifty500.csv\")\n",
    "\n",
    "print(df.Symbol)"
   ],
   "id": "5db5f26f4c6dfe6f",
   "outputs": [
    {
     "name": "stdout",
     "output_type": "stream",
     "text": [
      "0          360ONE\n",
      "1         3MINDIA\n",
      "2             ABB\n",
      "3             ACC\n",
      "4       ACMESOLAR\n",
      "          ...    \n",
      "495          ZEEL\n",
      "496        ZENTEC\n",
      "497    ZENSARTECH\n",
      "498     ZYDUSLIFE\n",
      "499        ECLERX\n",
      "Name: Symbol, Length: 500, dtype: object\n"
     ]
    }
   ],
   "execution_count": 6
  },
  {
   "metadata": {
    "ExecuteTime": {
     "end_time": "2025-07-11T18:30:00.486249Z",
     "start_time": "2025-07-11T18:29:57.612804Z"
    }
   },
   "cell_type": "code",
   "source": [
    "import yfinance as yf\n",
    "from datetime import datetime\n",
    "today = datetime.today().strftime('%Y-%m-%d')\n",
    "\n",
    "ticker = yf.download(\"RELIANCE.NS\", start=\"2025-06-01\" , end =today, interval=\"5m\")\n",
    "\n",
    "ticker\n"
   ],
   "id": "3737a574372775f4",
   "outputs": [
    {
     "name": "stderr",
     "output_type": "stream",
     "text": [
      "C:\\Users\\achiv\\AppData\\Local\\Temp\\ipykernel_11936\\3023125143.py:5: FutureWarning: YF.download() has changed argument auto_adjust default to True\n",
      "  ticker = yf.download(\"RELIANCE.NS\", start=\"2025-06-01\" , end =today, interval=\"5m\")\n",
      "[*********************100%***********************]  1 of 1 completed\n"
     ]
    },
    {
     "data": {
      "text/plain": [
       "Price                            Close         High          Low         Open  \\\n",
       "Ticker                     RELIANCE.NS  RELIANCE.NS  RELIANCE.NS  RELIANCE.NS   \n",
       "Datetime                                                                        \n",
       "2025-06-02 03:45:00+00:00  1401.599976  1414.900024  1397.699951  1414.099976   \n",
       "2025-06-02 03:50:00+00:00  1400.300049  1402.500000  1399.099976  1401.500000   \n",
       "2025-06-02 03:55:00+00:00  1398.900024  1402.099976  1397.500000  1400.199951   \n",
       "2025-06-02 04:00:00+00:00  1397.699951  1398.900024  1395.900024  1398.900024   \n",
       "2025-06-02 04:05:00+00:00  1400.599976  1401.300049  1397.699951  1397.900024   \n",
       "...                                ...          ...          ...          ...   \n",
       "2025-07-10 09:35:00+00:00  1518.400024  1519.000000  1515.099976  1516.900024   \n",
       "2025-07-10 09:40:00+00:00  1517.800049  1520.000000  1517.099976  1518.500000   \n",
       "2025-07-10 09:45:00+00:00  1518.300049  1520.099976  1516.199951  1517.800049   \n",
       "2025-07-10 09:50:00+00:00  1515.400024  1519.800049  1514.800049  1518.699951   \n",
       "2025-07-10 09:55:00+00:00  1515.300049  1517.000000  1514.699951  1515.500000   \n",
       "\n",
       "Price                          Volume  \n",
       "Ticker                    RELIANCE.NS  \n",
       "Datetime                               \n",
       "2025-06-02 03:45:00+00:00           0  \n",
       "2025-06-02 03:50:00+00:00      339808  \n",
       "2025-06-02 03:55:00+00:00      277833  \n",
       "2025-06-02 04:00:00+00:00      224248  \n",
       "2025-06-02 04:05:00+00:00      150116  \n",
       "...                               ...  \n",
       "2025-07-10 09:35:00+00:00      768200  \n",
       "2025-07-10 09:40:00+00:00      913353  \n",
       "2025-07-10 09:45:00+00:00      650433  \n",
       "2025-07-10 09:50:00+00:00      478471  \n",
       "2025-07-10 09:55:00+00:00      207922  \n",
       "\n",
       "[2175 rows x 5 columns]"
      ],
      "text/html": [
       "<div>\n",
       "<style scoped>\n",
       "    .dataframe tbody tr th:only-of-type {\n",
       "        vertical-align: middle;\n",
       "    }\n",
       "\n",
       "    .dataframe tbody tr th {\n",
       "        vertical-align: top;\n",
       "    }\n",
       "\n",
       "    .dataframe thead tr th {\n",
       "        text-align: left;\n",
       "    }\n",
       "\n",
       "    .dataframe thead tr:last-of-type th {\n",
       "        text-align: right;\n",
       "    }\n",
       "</style>\n",
       "<table border=\"1\" class=\"dataframe\">\n",
       "  <thead>\n",
       "    <tr>\n",
       "      <th>Price</th>\n",
       "      <th>Close</th>\n",
       "      <th>High</th>\n",
       "      <th>Low</th>\n",
       "      <th>Open</th>\n",
       "      <th>Volume</th>\n",
       "    </tr>\n",
       "    <tr>\n",
       "      <th>Ticker</th>\n",
       "      <th>RELIANCE.NS</th>\n",
       "      <th>RELIANCE.NS</th>\n",
       "      <th>RELIANCE.NS</th>\n",
       "      <th>RELIANCE.NS</th>\n",
       "      <th>RELIANCE.NS</th>\n",
       "    </tr>\n",
       "    <tr>\n",
       "      <th>Datetime</th>\n",
       "      <th></th>\n",
       "      <th></th>\n",
       "      <th></th>\n",
       "      <th></th>\n",
       "      <th></th>\n",
       "    </tr>\n",
       "  </thead>\n",
       "  <tbody>\n",
       "    <tr>\n",
       "      <th>2025-06-02 03:45:00+00:00</th>\n",
       "      <td>1401.599976</td>\n",
       "      <td>1414.900024</td>\n",
       "      <td>1397.699951</td>\n",
       "      <td>1414.099976</td>\n",
       "      <td>0</td>\n",
       "    </tr>\n",
       "    <tr>\n",
       "      <th>2025-06-02 03:50:00+00:00</th>\n",
       "      <td>1400.300049</td>\n",
       "      <td>1402.500000</td>\n",
       "      <td>1399.099976</td>\n",
       "      <td>1401.500000</td>\n",
       "      <td>339808</td>\n",
       "    </tr>\n",
       "    <tr>\n",
       "      <th>2025-06-02 03:55:00+00:00</th>\n",
       "      <td>1398.900024</td>\n",
       "      <td>1402.099976</td>\n",
       "      <td>1397.500000</td>\n",
       "      <td>1400.199951</td>\n",
       "      <td>277833</td>\n",
       "    </tr>\n",
       "    <tr>\n",
       "      <th>2025-06-02 04:00:00+00:00</th>\n",
       "      <td>1397.699951</td>\n",
       "      <td>1398.900024</td>\n",
       "      <td>1395.900024</td>\n",
       "      <td>1398.900024</td>\n",
       "      <td>224248</td>\n",
       "    </tr>\n",
       "    <tr>\n",
       "      <th>2025-06-02 04:05:00+00:00</th>\n",
       "      <td>1400.599976</td>\n",
       "      <td>1401.300049</td>\n",
       "      <td>1397.699951</td>\n",
       "      <td>1397.900024</td>\n",
       "      <td>150116</td>\n",
       "    </tr>\n",
       "    <tr>\n",
       "      <th>...</th>\n",
       "      <td>...</td>\n",
       "      <td>...</td>\n",
       "      <td>...</td>\n",
       "      <td>...</td>\n",
       "      <td>...</td>\n",
       "    </tr>\n",
       "    <tr>\n",
       "      <th>2025-07-10 09:35:00+00:00</th>\n",
       "      <td>1518.400024</td>\n",
       "      <td>1519.000000</td>\n",
       "      <td>1515.099976</td>\n",
       "      <td>1516.900024</td>\n",
       "      <td>768200</td>\n",
       "    </tr>\n",
       "    <tr>\n",
       "      <th>2025-07-10 09:40:00+00:00</th>\n",
       "      <td>1517.800049</td>\n",
       "      <td>1520.000000</td>\n",
       "      <td>1517.099976</td>\n",
       "      <td>1518.500000</td>\n",
       "      <td>913353</td>\n",
       "    </tr>\n",
       "    <tr>\n",
       "      <th>2025-07-10 09:45:00+00:00</th>\n",
       "      <td>1518.300049</td>\n",
       "      <td>1520.099976</td>\n",
       "      <td>1516.199951</td>\n",
       "      <td>1517.800049</td>\n",
       "      <td>650433</td>\n",
       "    </tr>\n",
       "    <tr>\n",
       "      <th>2025-07-10 09:50:00+00:00</th>\n",
       "      <td>1515.400024</td>\n",
       "      <td>1519.800049</td>\n",
       "      <td>1514.800049</td>\n",
       "      <td>1518.699951</td>\n",
       "      <td>478471</td>\n",
       "    </tr>\n",
       "    <tr>\n",
       "      <th>2025-07-10 09:55:00+00:00</th>\n",
       "      <td>1515.300049</td>\n",
       "      <td>1517.000000</td>\n",
       "      <td>1514.699951</td>\n",
       "      <td>1515.500000</td>\n",
       "      <td>207922</td>\n",
       "    </tr>\n",
       "  </tbody>\n",
       "</table>\n",
       "<p>2175 rows × 5 columns</p>\n",
       "</div>"
      ]
     },
     "execution_count": 1,
     "metadata": {},
     "output_type": "execute_result"
    }
   ],
   "execution_count": 1
  },
  {
   "metadata": {},
   "cell_type": "code",
   "outputs": [],
   "execution_count": null,
   "source": "",
   "id": "7a9444f35a6d17ba"
  }
 ],
 "metadata": {
  "kernelspec": {
   "display_name": "Python 3",
   "language": "python",
   "name": "python3"
  },
  "language_info": {
   "codemirror_mode": {
    "name": "ipython",
    "version": 2
   },
   "file_extension": ".py",
   "mimetype": "text/x-python",
   "name": "python",
   "nbconvert_exporter": "python",
   "pygments_lexer": "ipython2",
   "version": "2.7.6"
  }
 },
 "nbformat": 4,
 "nbformat_minor": 5
}
